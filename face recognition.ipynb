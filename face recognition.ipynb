{
 "cells": [
  {
   "cell_type": "markdown",
   "id": "17725d38",
   "metadata": {},
   "source": [
    "# Face Recognition "
   ]
  },
  {
   "cell_type": "code",
   "execution_count": null,
   "id": "a5d26071",
   "metadata": {},
   "outputs": [],
   "source": [
    "import tensorflow as tf\n",
    "import warnings\n",
    "warnings.filterwarnings(\"ignore\")\n",
    "import pandas as pd\n",
    "import matplotlib.pyplot as plt\n",
    "import seaborn as sns\n",
    "import  numpy as np\n",
    "import cv2\n",
    "from keras.models import load_model\n",
    "import smtplib\n",
    "from email.mime.text import MIMEText\n"
   ]
  },
  {
   "cell_type": "markdown",
   "id": "a4ef45ca",
   "metadata": {},
   "source": [
    "# generating 100 img from 1 img to train "
   ]
  },
  {
   "cell_type": "code",
   "execution_count": null,
   "id": "b188eddd",
   "metadata": {},
   "outputs": [],
   "source": [
    "\n",
    "\n",
    "from keras.preprocessing.image import array_to_img, ImageDataGenerator, img_to_array, load_img"
   ]
  },
  {
   "cell_type": "code",
   "execution_count": null,
   "id": "bb7ff454",
   "metadata": {},
   "outputs": [],
   "source": [
    "GenerateImage= ImageDataGenerator(rotation_range=40, width_shift_range= .2, height_shift_range=.2, shear_range=.2,\n",
    "                                  zoom_range=.2,horizontal_flip=True, fill_mode='nearest' )"
   ]
  },
  {
   "cell_type": "code",
   "execution_count": null,
   "id": "3804776d",
   "metadata": {},
   "outputs": [],
   "source": [
    "img= load_img(r\"C:\\Users\\User\\Downloads\\WhatsApp Image 2024-01-21 at 22.38.38.jpeg\")\n",
    "x=img_to_array(img)\n",
    "# to generate the image we need to load the img"
   ]
  },
  {
   "cell_type": "code",
   "execution_count": null,
   "id": "e4bb35d3",
   "metadata": {},
   "outputs": [],
   "source": [
    "x=x.reshape((1,)+ x.shape)\n",
    "x.shape"
   ]
  },
  {
   "cell_type": "code",
   "execution_count": null,
   "id": "faae594b",
   "metadata": {},
   "outputs": [],
   "source": [
    "i= 0\n",
    "for batch in GenerateImage.flow(x, batch_size=1, save_to_dir=\"d:\\preveiw\", save_prefix='dd', save_format='JPG'):\n",
    "    \n",
    "    i=i+1\n",
    "    if i>100:\n",
    "        break"
   ]
  },
  {
   "cell_type": "markdown",
   "id": "9bf78d86",
   "metadata": {},
   "source": [
    "#  model:"
   ]
  },
  {
   "cell_type": "code",
   "execution_count": null,
   "id": "b70e41b2",
   "metadata": {},
   "outputs": [],
   "source": [
    "import cv2\n",
    "import matplotlib.pyplot as plt\n",
    "import numpy as np\n",
    "import tensorflow as tf\n",
    "import os\n",
    "\n",
    "from keras.models import Sequential\n",
    "from keras.layers import Conv2D, MaxPool2D,Flatten, Dense,Dropout,AvgPool2D\n",
    "\n",
    "from keras.models import Model\n",
    "from keras.layers import Dense, Lambda, Flatten, Input\n",
    "from keras.preprocessing  import image\n",
    "from keras.models import Sequential\n",
    "import glob\n",
    "import keras"
   ]
  },
  {
   "cell_type": "code",
   "execution_count": null,
   "id": "572129d6",
   "metadata": {},
   "outputs": [],
   "source": [
    "image_size=200\n",
    "\n",
    "path1=r\"D:\\face_recognition\" # path of folder\n",
    "cate =[\"suraj\",\"sakshi\",\"stranger\"]# picture containing folder\n",
    "input_image=[]\n",
    "for i in cate:\n",
    "    folders=os.path.join(path1,i)\n",
    "    label= cate.index(i)\n",
    "    for image in os.listdir(folders):\n",
    "        image_path= os.path.join(folders,image)\n",
    "        image_array= cv2.imread(image_path)\n",
    "        image_array=cv2.resize(image_array,(image_size,image_size))\n",
    "        input_image.append([image_array,label])\n",
    "        "
   ]
  },
  {
   "cell_type": "code",
   "execution_count": null,
   "id": "6e7f946a",
   "metadata": {},
   "outputs": [],
   "source": [
    "len(input_image)"
   ]
  },
  {
   "cell_type": "code",
   "execution_count": null,
   "id": "abef9a69",
   "metadata": {},
   "outputs": [],
   "source": [
    "np.random.shuffle(input_image) # every time run the code shuffling is done"
   ]
  },
  {
   "cell_type": "code",
   "execution_count": null,
   "id": "3e67f1db",
   "metadata": {},
   "outputs": [],
   "source": [
    "x=[]\n",
    "y=[]\n",
    "\n",
    "for x_values,labels in input_image:\n",
    "    x.append(x_values)\n",
    "    y.append(labels)"
   ]
  },
  {
   "cell_type": "code",
   "execution_count": null,
   "id": "c47bbd97",
   "metadata": {},
   "outputs": [],
   "source": [
    "x= np.array(x)\n",
    "y=np.array(y)"
   ]
  },
  {
   "cell_type": "code",
   "execution_count": null,
   "id": "9cef0403",
   "metadata": {},
   "outputs": [],
   "source": [
    "y.shape"
   ]
  },
  {
   "cell_type": "code",
   "execution_count": null,
   "id": "568b8293",
   "metadata": {},
   "outputs": [],
   "source": [
    "x_train = x[:500]\n",
    "y_train = y[:500]\n",
    "\n",
    "x_test = x[500:700]\n",
    "y_test = y[500:700]"
   ]
  },
  {
   "cell_type": "code",
   "execution_count": null,
   "id": "cb97200c",
   "metadata": {},
   "outputs": [],
   "source": [
    "x_train = x_train/255\n",
    "x_test = x_test/255\n",
    "\n",
    "x_train = x_train.astype('float32')\n",
    "x_test = x_test.astype('float32')"
   ]
  },
  {
   "cell_type": "code",
   "execution_count": null,
   "id": "1bf544b9",
   "metadata": {},
   "outputs": [],
   "source": [
    "model=Sequential()\n",
    "model.add(Conv2D(filters=50,kernel_size=(5,5),activation='relu'))\n",
    "model.add(MaxPool2D(pool_size=(2,2)))\n",
    "model.add(Flatten())\n",
    "model.add(Dense(128, activation='relu',input_shape=x_train.shape[1:]))\n",
    "model.add(Dense(128, activation='relu',input_shape=x_train.shape[1:]))\n",
    "model.add(Dense(128, activation='relu',input_shape=x_train.shape[1:]))\n",
    "model.add(Dense(3,activation='softmax'))"
   ]
  },
  {
   "cell_type": "code",
   "execution_count": null,
   "id": "dc4d37fd",
   "metadata": {},
   "outputs": [],
   "source": [
    "model.compile(optimizer=\"adam\", loss='sparse_categorical_crossentropy', metrics=[\"accuracy\"])"
   ]
  },
  {
   "cell_type": "code",
   "execution_count": null,
   "id": "e69bdecf",
   "metadata": {},
   "outputs": [],
   "source": [
    "model.fit(x_train,y_train, epochs=5,batch_size=32)"
   ]
  },
  {
   "cell_type": "code",
   "execution_count": null,
   "id": "915bbe65",
   "metadata": {},
   "outputs": [],
   "source": [
    "from sklearn.metrics import confusion_matrix,classification_report"
   ]
  },
  {
   "cell_type": "code",
   "execution_count": null,
   "id": "6f002f2f",
   "metadata": {},
   "outputs": [],
   "source": [
    "pred=model.predict(x_train)\n",
    "pred_final= pred.argmax(axis=1)"
   ]
  },
  {
   "cell_type": "code",
   "execution_count": null,
   "id": "4ec83625",
   "metadata": {},
   "outputs": [],
   "source": [
    "print(classification_report(y_train,pred_final))"
   ]
  },
  {
   "cell_type": "code",
   "execution_count": null,
   "id": "284f7282",
   "metadata": {},
   "outputs": [],
   "source": [
    "pred_t=model.predict(x_test)\n",
    "\n",
    "pred_final_t= pred_t.argmax(axis=1)"
   ]
  },
  {
   "cell_type": "code",
   "execution_count": null,
   "id": "c9f785cd",
   "metadata": {},
   "outputs": [],
   "source": [
    "pred_final_t"
   ]
  },
  {
   "cell_type": "code",
   "execution_count": null,
   "id": "632f6dc4",
   "metadata": {},
   "outputs": [],
   "source": [
    "print(classification_report(y_test,pred_final_t))"
   ]
  },
  {
   "cell_type": "code",
   "execution_count": null,
   "id": "c6906332",
   "metadata": {},
   "outputs": [],
   "source": [
    "# model.save(\"face_recognitio.h5\")"
   ]
  },
  {
   "cell_type": "markdown",
   "id": "9117f0e8",
   "metadata": {},
   "source": [
    "#  working"
   ]
  },
  {
   "cell_type": "code",
   "execution_count": null,
   "id": "991f4ed2",
   "metadata": {},
   "outputs": [],
   "source": [
    "face_cascade= cv2.CascadeClassifier(r\"D:\\open cv\\HaarCascade\\HaarCascade\\haarcascade_frontalface_default.xml\")\n",
    "def face_detection(img):\n",
    "    face_img=img.copy()\n",
    "    \n",
    "    face_reacts=face_cascade.detectMultiScale(face_img)# this face is just x,y,height and breath of rectangle\n",
    "    \n",
    "    for(x,y,w,h) in face_reacts:\n",
    "        cv2.rectangle(face_img,(x,y),(x+w,y+h),(255,0,0),3)# frawing rectangle on face\n",
    "    return face_img"
   ]
  },
  {
   "cell_type": "code",
   "execution_count": null,
   "id": "adb9e06d",
   "metadata": {},
   "outputs": [],
   "source": [
    "eye_cascade = cv2.CascadeClassifier(r\"C:\\Users\\Sakshi\\HaarCascade\\HaarCascade\\haarcascade_eye.xml\")\n",
    "\n",
    "def eye_detection(img):\n",
    "    face_img = img.copy()\n",
    "    eye_rects =  eye_cascade.detectMultiScale(face_img) \n",
    "    for (x,y,w,h) in eye_rects:\n",
    "        cv2.rectangle(face_img, (x,y), (x+w, y+h), (255,100,10),5)\n",
    "    return face_img"
   ]
  },
  {
   "cell_type": "code",
   "execution_count": null,
   "id": "1d3798d7",
   "metadata": {},
   "outputs": [],
   "source": [
    "from keras.models import load_model\n",
    "model = load_model('face_recognitio.h5')\n",
    "results={0:'suraj',1:'sakshi',2:'stranger'}\n",
    "GR_dict={0:(0,255,255),1:(0,255,0),2:(255,255,0)}\n",
    "\n",
    "rect_size = 4\n",
    "cap = cv2.VideoCapture(0)\n",
    "haarcascade = cv2.CascadeClassifier(r\"D:\\open cv\\HaarCascade\\HaarCascade\\haarcascade_frontalface_default.xml\")\n",
    "while True:\n",
    "    (rval, im) = cap.read()\n",
    "    im=cv2.flip(im,1,1) \n",
    "\n",
    "    \n",
    "    rerect_size = cv2.resize(im, (im.shape[1] // rect_size, im.shape[0] // rect_size))\n",
    "    faces = haarcascade.detectMultiScale(rerect_size)\n",
    "    for f in faces:\n",
    "        (x, y, w, h) = [v * rect_size for v in f] \n",
    "        \n",
    "        face_img = im[y:y+h, x:x+w]\n",
    "        rerect_sized=cv2.resize(face_img,(200,200))\n",
    "        normalized=rerect_sized/255.0\n",
    "        reshaped=np.reshape(normalized,(1,200,200,3))\n",
    "        reshaped = np.vstack([reshaped])\n",
    "        result=model.predict(reshaped)\n",
    "        \n",
    "        label=np.argmax(result,axis=1)[0]\n",
    "      \n",
    "        cv2.rectangle(im,(x,y),(x+w,y+h),GR_dict[label],2)\n",
    "        cv2.rectangle(im,(x,y-40),(x+w,y),GR_dict[label],-1)\n",
    "        cv2.putText(im, results[label], (x, y-10),cv2.FONT_HERSHEY_SIMPLEX,0.8,(255,0,0),2)\n",
    "\n",
    "    cv2.imshow('Liv Camera',   im)\n",
    "    key = cv2.waitKey(10)\n",
    "    \n",
    "    if key == 27: # use the escape key\n",
    "        break\n",
    "\n",
    "cap.release()\n",
    "\n",
    "cv2.destroyAllWindows()"
   ]
  },
  {
   "cell_type": "markdown",
   "id": "a347222c",
   "metadata": {},
   "source": [
    "# email code"
   ]
  },
  {
   "cell_type": "code",
   "execution_count": null,
   "id": "fbb0e684",
   "metadata": {},
   "outputs": [],
   "source": [
    "model = load_model('face_recognitio.h5')\n",
    "results = {0: 'suraj', 1: 'sakshi', 2: 'stranger'}\n",
    "GR_dict = {0: (0, 255, 255), 1: (0, 255, 0),2:(255,255,0)}\n",
    "\n",
    "rect_size = 4\n",
    "cap = cv2.VideoCapture(0)\n",
    "haarcascade = cv2.CascadeClassifier(r\"D:\\open cv\\HaarCascade\\HaarCascade\\haarcascade_frontalface_default.xml\")\n",
    "\n",
    "%run./email configuration.ipynb\n",
    "\n",
    "def send_email(message):\n",
    "    subject = 'Alert: Stranger Detected'\n",
    "    body = f\"Subject: {subject}\\n\\n{message}\"\n",
    "\n",
    "    with smtplib.SMTP(smtp_server, smtp_port) as server:\n",
    "        server.starttls()\n",
    "        server.login(smtp_username, smtp_password)\n",
    "        server.sendmail(smtp_username, receiver_email, body)\n",
    "\n",
    "while True:\n",
    "    (rval, im) = cap.read()\n",
    "    im = cv2.flip(im, 1, 1)\n",
    "\n",
    "    rerect_size = cv2.resize(im, (im.shape[1] // rect_size, im.shape[0] // rect_size))\n",
    "    faces = haarcascade.detectMultiScale(rerect_size)\n",
    "\n",
    "    for f in faces:\n",
    "        (x, y, w, h) = [v * rect_size for v in f]\n",
    "\n",
    "        face_img = im[y:y+h, x:x+w]\n",
    "        rerect_sized = cv2.resize(face_img, (200, 200))\n",
    "        normalized = rerect_sized / 255.0\n",
    "        reshaped = np.reshape(normalized, (1, 200, 200, 3))\n",
    "        reshaped = np.vstack([reshaped])\n",
    "        result = model.predict(reshaped)\n",
    "\n",
    "        label = np.argmax(result, axis=1)[0]\n",
    "\n",
    "        cv2.rectangle(im, (x, y), (x+w, y+h), GR_dict[label], 2)\n",
    "        cv2.rectangle(im, (x, y-40), (x+w, y), GR_dict[label], -1)\n",
    "        cv2.putText(im, results[label], (x, y-10), cv2.FONT_HERSHEY_SIMPLEX, 0.8, (255, 0, 0), 2)\n",
    "\n",
    "        if label == 2:  # Stranger detected\n",
    "            send_email(\"Stranger in the house\")\n",
    "\n",
    "    cv2.imshow('Liv Camera', im)\n",
    "    key = cv2.waitKey(10)\n",
    "\n",
    "    if key == 27:  # use the escape key\n",
    "        break\n",
    "\n",
    "cap.release()\n",
    "cv2.destroyAllWindows()"
   ]
  },
  {
   "cell_type": "markdown",
   "id": "35463375",
   "metadata": {},
   "source": [
    "# checking without web cam"
   ]
  },
  {
   "cell_type": "code",
   "execution_count": null,
   "id": "7e40d0ff",
   "metadata": {},
   "outputs": [],
   "source": [
    "# creating function to predict input image\n",
    "def product_type(img_path):\n",
    "    # imp labraries\n",
    "    import cv2\n",
    "    import matplotlib.pyplot as plt\n",
    "    import keras\n",
    "    from keras.models import load_model\n",
    "    import warnings\n",
    "    warnings.filterwarnings(\"ignore\")\n",
    "    \n",
    "    # loading the models\n",
    "    model = load_model('face_recognitio.h5')\n",
    "    \n",
    "    # processing image\n",
    "    img = cv2.imread(img_path)\n",
    "    img = cv2.resize(img, (200, 200))\n",
    "    img_array = np.array(img)/255\n",
    "    img_array = img_array.reshape((1, 200, 200, 3))\n",
    "    \n",
    "    \n",
    "    cate = ['suraj', 'sakshi','Stranger']\n",
    "    \n",
    "    pred = model.predict(img_array, verbose = 0)\n",
    "    label = pred.argmax(axis = 1)\n",
    "    corrected_img = cv2.cvtColor(img, cv2.COLOR_BGR2RGB)\n",
    "    plt.imshow(corrected_img)\n",
    "    plt.title(f\"{cate[label[0]]} category\")\n",
    "    plt.axis(\"off\")"
   ]
  },
  {
   "cell_type": "code",
   "execution_count": null,
   "id": "edd001bb",
   "metadata": {},
   "outputs": [],
   "source": [
    "product_type(r\"C:\\Users\\User\\Downloads\\WhatsApp Image 2023-11-28 at 23.11.37.jpeg\")"
   ]
  },
  {
   "cell_type": "code",
   "execution_count": null,
   "id": "5ae9fc0e",
   "metadata": {},
   "outputs": [],
   "source": []
  },
  {
   "cell_type": "code",
   "execution_count": null,
   "id": "f21aa0ea",
   "metadata": {},
   "outputs": [],
   "source": []
  },
  {
   "cell_type": "code",
   "execution_count": null,
   "id": "45a87a06",
   "metadata": {},
   "outputs": [],
   "source": []
  },
  {
   "cell_type": "code",
   "execution_count": null,
   "id": "8a9e3538",
   "metadata": {},
   "outputs": [],
   "source": []
  },
  {
   "cell_type": "code",
   "execution_count": null,
   "id": "a650a9a6",
   "metadata": {},
   "outputs": [],
   "source": []
  }
 ],
 "metadata": {
  "kernelspec": {
   "display_name": "Python 3 (ipykernel)",
   "language": "python",
   "name": "python3"
  },
  "language_info": {
   "codemirror_mode": {
    "name": "ipython",
    "version": 3
   },
   "file_extension": ".py",
   "mimetype": "text/x-python",
   "name": "python",
   "nbconvert_exporter": "python",
   "pygments_lexer": "ipython3",
   "version": "3.10.9"
  }
 },
 "nbformat": 4,
 "nbformat_minor": 5
}
